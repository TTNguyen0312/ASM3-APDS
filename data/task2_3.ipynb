{
 "cells": [
  {
   "cell_type": "markdown",
   "metadata": {},
   "source": [
    "# Assignment 2: Milestone I Natural Language Processing\n",
    "## Task 2&3\n",
    "#### Student Name: XXXX XXXX\n",
    "#### Student ID: 000000\n",
    "\n",
    "\n",
    "Environment: Python 3 and Jupyter notebook\n",
    "\n",
    "Libraries used: please include all the libraries you used in your assignment, e.g.,:\n",
    "* pandas\n",
    "* re\n",
    "* numpy\n",
    "\n",
    "## Introduction\n",
    "You should give a brief information of this assessment task here.\n",
    "\n",
    "<span style=\"color: red\"> Note that this is a sample notebook only. You will need to fill in the proper markdown and code blocks. You might also want to make necessary changes to the structure to meet your own needs. Note also that any generic comments written in this notebook are to be removed and replace with your own words.</span>"
   ]
  },
  {
   "cell_type": "markdown",
   "metadata": {},
   "source": [
    "## Importing libraries "
   ]
  },
  {
   "cell_type": "code",
   "execution_count": 7,
   "metadata": {},
   "outputs": [],
   "source": [
    "# Code to import libraries as you need in this assessment, e.g.,\n",
    "import pandas as pd\n",
    "import ast\n"
   ]
  },
  {
   "cell_type": "markdown",
   "metadata": {},
   "source": [
    "## Task 2. Generating Feature Representations for Clothing Items Reviews"
   ]
  },
  {
   "cell_type": "markdown",
   "metadata": {},
   "source": [
    "...... Sections and code blocks on buidling different document feature represetations\n",
    "\n",
    "\n",
    "<span style=\"color: red\"> You might have complex notebook structure in this section, please feel free to create your own notebook structure. </span>"
   ]
  },
  {
   "cell_type": "markdown",
   "metadata": {},
   "source": [
    "### Load neccessary csv \n",
    "processed.csv"
   ]
  },
  {
   "cell_type": "code",
   "execution_count": 8,
   "metadata": {},
   "outputs": [
    {
     "name": "stdout",
     "output_type": "stream",
     "text": [
      "[OK] processed.csv loaded. Rows: 19662\n"
     ]
    }
   ],
   "source": [
    "# Code to perform the task...\n",
    "# === Task 2: Bag-of-Words ===\n",
    "\n",
    "# Load processed.csv (must contain column 'tokens' from Task 1)\n",
    "df = pd.read_csv(\"processed.csv\")\n",
    "\n",
    "# Convert 'tokens' from string to list if needed\n",
    "print(\"[OK] processed.csv loaded. Rows:\", len(df))"
   ]
  },
  {
   "cell_type": "markdown",
   "metadata": {},
   "source": [
    "### Building the Vocabulary Dictionary\n",
    "\n",
    "reading the vocabulary.txt file and building a dictionary that maps each word to its index."
   ]
  },
  {
   "cell_type": "code",
   "execution_count": 9,
   "metadata": {},
   "outputs": [
    {
     "name": "stdout",
     "output_type": "stream",
     "text": [
      "vocabulary.txt loaded. Size: 7529\n",
      "Sample entries: [('a-cup', 0), ('a-flutter', 1), ('a-frame', 2), ('a-kind', 3), ('a-line', 4)]\n"
     ]
    }
   ],
   "source": [
    "# === Task 2: Bag-of-Words ===\n",
    "word2idx = {}\n",
    "with open(\"vocabulary.txt\", \"r\", encoding=\"utf-8\") as f:\n",
    "    for line in f:\n",
    "        s = line.strip()\n",
    "        if not s:\n",
    "            continue\n",
    "        w, sidx = s.rsplit(\":\", 1)\n",
    "        word2idx[w] = int(sidx)\n",
    "\n",
    "print(\"vocabulary.txt loaded. Size:\", len(word2idx))\n",
    "print(\"Sample entries:\", list(word2idx.items())[:5])"
   ]
  },
  {
   "cell_type": "markdown",
   "metadata": {},
   "source": [
    "### Saving outputs\n",
    "Save the count vector representation as per spectification.\n",
    "- count_vectors.txt"
   ]
  },
  {
   "cell_type": "code",
   "execution_count": 12,
   "metadata": {},
   "outputs": [
    {
     "name": "stdout",
     "output_type": "stream",
     "text": [
      "[OK] Wrote 19662 lines to count_vectors.txt\n",
      "#0,686:1,1027:1,1715:1,1791:1,2288:1,2481:1,2602:1,2892:2,3010:1,3087:1,3193:1,3258:1,3549:2,3552:1,3832:1,3934:1,4224:2,4234:1,4427:1,4639:2,5260:1,5668:1,6726:1,7092:1,7207:1,7406:1,7520:1,7522:1\n",
      "#1,1286:1,2283:1,2502:1,2667:1,3403:1,6739:1\n",
      "#2,86:1,924:1,1987:1,2646:1,3584:1,3595:1,4506:1,5736:2,5924:1,6716:1\n"
     ]
    }
   ],
   "source": [
    "# code to save output data...\n",
    "# === Task 2: Bag-of-Words ===\n",
    "from collections import Counter\n",
    "\n",
    "out_path = \"count_vectors.txt\"\n",
    "\n",
    "with open(out_path, \"w\", encoding=\"utf-8\") as fout:\n",
    "    for review_index, tokens in enumerate(df[\"tokens\"].values):\n",
    "        ctr = Counter()\n",
    "        tokens = ast.literal_eval(tokens)\n",
    "        for t in tokens:\n",
    "            idx = word2idx.get(t)\n",
    "            if idx is not None:\n",
    "                ctr[idx] += 1\n",
    "\n",
    "        # Format: \"#<review_index>,idx:count,idx:count,...\"\n",
    "        \n",
    "        parts = [f\"{i}:{ctr[i]}\" for i in sorted(ctr)]\n",
    "        fout.write(f\"#{review_index},{','.join(parts)}\\n\")\n",
    "\n",
    "print(f\"[OK] Wrote {len(df)} lines to {out_path}\")\n",
    "with open(out_path, \"r\", encoding=\"utf-8\") as f:\n",
    "    for _ in range(3):\n",
    "        print(f.readline().rstrip())"
   ]
  },
  {
   "cell_type": "markdown",
   "metadata": {},
   "source": [
    "## Task 3. Clothing Review Classification"
   ]
  },
  {
   "cell_type": "markdown",
   "metadata": {},
   "source": [
    "...... Sections and code blocks on buidling classification models based on different document feature represetations. \n",
    "Detailed comparsions and evaluations on different models to answer each question as per specification. \n",
    "\n",
    "<span style=\"color: red\"> You might have complex notebook structure in this section, please feel free to create your own notebook structure. </span>"
   ]
  },
  {
   "cell_type": "code",
   "execution_count": null,
   "metadata": {},
   "outputs": [],
   "source": [
    "# Code to perform the task...\n"
   ]
  },
  {
   "cell_type": "markdown",
   "metadata": {},
   "source": [
    "## Summary\n",
    "Give a short summary and anything you would like to talk about the assessment tasks here."
   ]
  },
  {
   "cell_type": "markdown",
   "metadata": {},
   "source": [
    "## Couple of notes for all code blocks in this notebook\n",
    "- please provide proper comment on your code\n",
    "- Please re-start and run all cells to make sure codes are runable and include your output in the submission.   \n",
    "<span style=\"color: red\"> This markdown block can be removed once the task is completed. </span>"
   ]
  }
 ],
 "metadata": {
  "kernelspec": {
   "display_name": "Python 3",
   "language": "python",
   "name": "python3"
  },
  "language_info": {
   "codemirror_mode": {
    "name": "ipython",
    "version": 3
   },
   "file_extension": ".py",
   "mimetype": "text/x-python",
   "name": "python",
   "nbconvert_exporter": "python",
   "pygments_lexer": "ipython3",
   "version": "3.13.7"
  }
 },
 "nbformat": 4,
 "nbformat_minor": 4
}
