{
  "cells": [
    {
      "cell_type": "markdown",
      "metadata": {
        "id": "f8HB8p7IwlQI"
      },
      "source": []
    },
    {
      "cell_type": "code",
      "execution_count": 9,
      "metadata": {
        "colab": {
          "base_uri": "https://localhost:8080/"
        },
        "id": "3OPYh8jzuLYj",
        "outputId": "bd9c655d-3f77-4c8b-8b19-b2e19be8c2df"
      },
      "outputs": [
        {
          "ename": "ModuleNotFoundError",
          "evalue": "No module named 'google.colab'",
          "output_type": "error",
          "traceback": [
            "\u001b[1;31m---------------------------------------------------------------------------\u001b[0m",
            "\u001b[1;31mModuleNotFoundError\u001b[0m                       Traceback (most recent call last)",
            "Cell \u001b[1;32mIn[1], line 2\u001b[0m\n\u001b[0;32m      1\u001b[0m \u001b[38;5;66;03m# Only run this if you use GG colab\u001b[39;00m\n\u001b[1;32m----> 2\u001b[0m \u001b[38;5;28;01mfrom\u001b[39;00m\u001b[38;5;250m \u001b[39m\u001b[38;5;21;01mgoogle\u001b[39;00m\u001b[38;5;21;01m.\u001b[39;00m\u001b[38;5;21;01mcolab\u001b[39;00m\u001b[38;5;250m \u001b[39m\u001b[38;5;28;01mimport\u001b[39;00m drive\n\u001b[0;32m      3\u001b[0m drive\u001b[38;5;241m.\u001b[39mmount(\u001b[38;5;124m'\u001b[39m\u001b[38;5;124m/content/drive/\u001b[39m\u001b[38;5;124m'\u001b[39m)\n",
            "\u001b[1;31mModuleNotFoundError\u001b[0m: No module named 'google.colab'"
          ]
        }
      ],
      "source": [
        "# The following code is only for Google Colab.\n",
        "# If you are running this notebook locally, you should not run this cell.\n",
        "\n",
        "# %pip install google-colab\n",
        "\n",
        "# from google.colab import drive\n",
        "# drive.mount('/content/drive/')"
      ]
    },
    {
      "cell_type": "code",
      "execution_count": 10,
      "metadata": {
        "id": "qlZMxqeCyc3X"
      },
      "outputs": [],
      "source": [
        "import pandas as pd\n",
        "import numpy as np\n",
        "import matplotlib.pyplot as plt\n",
        "import os\n",
        "import re\n",
        "import zipfile"
      ]
    },
    {
      "cell_type": "code",
      "execution_count": 11,
      "metadata": {},
      "outputs": [
        {
          "data": {
            "text/plain": [
              "'/Users/vongoc/Documents/GitHub/ASM3-APDS'"
            ]
          },
          "execution_count": 11,
          "metadata": {},
          "output_type": "execute_result"
        }
      ],
      "source": [
        "current_directory = os.getcwd()\n",
        "current_directory"
      ]
    },
    {
      "cell_type": "code",
      "execution_count": 12,
      "metadata": {
        "colab": {
          "base_uri": "https://localhost:8080/"
        },
        "id": "IZZ_6YGDxnHE",
        "outputId": "614a8dc0-5de1-4332-a473-5704c57ccb4b"
      },
      "outputs": [],
      "source": [
        "with zipfile.ZipFile(f\"{current_directory}/data.zip\", 'r') as zip_ref:\n",
        "    zip_ref.extractall(current_directory)"
      ]
    },
    {
      "cell_type": "code",
      "execution_count": 13,
      "metadata": {
        "colab": {
          "base_uri": "https://localhost:8080/",
          "height": 753
        },
        "id": "hxVFejQ8yPk1",
        "outputId": "3f098bad-698e-424c-b140-01663565e59d"
      },
      "outputs": [
        {
          "data": {
            "text/html": [
              "<div>\n",
              "<style scoped>\n",
              "    .dataframe tbody tr th:only-of-type {\n",
              "        vertical-align: middle;\n",
              "    }\n",
              "\n",
              "    .dataframe tbody tr th {\n",
              "        vertical-align: top;\n",
              "    }\n",
              "\n",
              "    .dataframe thead th {\n",
              "        text-align: right;\n",
              "    }\n",
              "</style>\n",
              "<table border=\"1\" class=\"dataframe\">\n",
              "  <thead>\n",
              "    <tr style=\"text-align: right;\">\n",
              "      <th></th>\n",
              "      <th>Clothing ID</th>\n",
              "      <th>Age</th>\n",
              "      <th>Title</th>\n",
              "      <th>Review Text</th>\n",
              "      <th>Rating</th>\n",
              "      <th>Recommended IND</th>\n",
              "      <th>Positive Feedback Count</th>\n",
              "      <th>Division Name</th>\n",
              "      <th>Department Name</th>\n",
              "      <th>Class Name</th>\n",
              "    </tr>\n",
              "  </thead>\n",
              "  <tbody>\n",
              "    <tr>\n",
              "      <th>0</th>\n",
              "      <td>1077</td>\n",
              "      <td>60</td>\n",
              "      <td>Some major design flaws</td>\n",
              "      <td>I had such high hopes for this dress and reall...</td>\n",
              "      <td>3</td>\n",
              "      <td>0</td>\n",
              "      <td>0</td>\n",
              "      <td>General</td>\n",
              "      <td>Dresses</td>\n",
              "      <td>Dresses</td>\n",
              "    </tr>\n",
              "    <tr>\n",
              "      <th>1</th>\n",
              "      <td>1049</td>\n",
              "      <td>50</td>\n",
              "      <td>My favorite buy!</td>\n",
              "      <td>I love, love, love this jumpsuit. it's fun, fl...</td>\n",
              "      <td>5</td>\n",
              "      <td>1</td>\n",
              "      <td>0</td>\n",
              "      <td>General Petite</td>\n",
              "      <td>Bottoms</td>\n",
              "      <td>Pants</td>\n",
              "    </tr>\n",
              "    <tr>\n",
              "      <th>2</th>\n",
              "      <td>847</td>\n",
              "      <td>47</td>\n",
              "      <td>Flattering shirt</td>\n",
              "      <td>This shirt is very flattering to all due to th...</td>\n",
              "      <td>5</td>\n",
              "      <td>1</td>\n",
              "      <td>6</td>\n",
              "      <td>General</td>\n",
              "      <td>Tops</td>\n",
              "      <td>Blouses</td>\n",
              "    </tr>\n",
              "    <tr>\n",
              "      <th>3</th>\n",
              "      <td>1080</td>\n",
              "      <td>49</td>\n",
              "      <td>Not for the very petite</td>\n",
              "      <td>I love tracy reese dresses, but this one is no...</td>\n",
              "      <td>2</td>\n",
              "      <td>0</td>\n",
              "      <td>4</td>\n",
              "      <td>General</td>\n",
              "      <td>Dresses</td>\n",
              "      <td>Dresses</td>\n",
              "    </tr>\n",
              "    <tr>\n",
              "      <th>4</th>\n",
              "      <td>858</td>\n",
              "      <td>39</td>\n",
              "      <td>Cagrcoal shimmer fun</td>\n",
              "      <td>I aded this in my basket at hte last mintue to...</td>\n",
              "      <td>5</td>\n",
              "      <td>1</td>\n",
              "      <td>1</td>\n",
              "      <td>General Petite</td>\n",
              "      <td>Tops</td>\n",
              "      <td>Knits</td>\n",
              "    </tr>\n",
              "    <tr>\n",
              "      <th>...</th>\n",
              "      <td>...</td>\n",
              "      <td>...</td>\n",
              "      <td>...</td>\n",
              "      <td>...</td>\n",
              "      <td>...</td>\n",
              "      <td>...</td>\n",
              "      <td>...</td>\n",
              "      <td>...</td>\n",
              "      <td>...</td>\n",
              "      <td>...</td>\n",
              "    </tr>\n",
              "    <tr>\n",
              "      <th>19657</th>\n",
              "      <td>1104</td>\n",
              "      <td>34</td>\n",
              "      <td>Great dress for many occasions</td>\n",
              "      <td>I was very happy to snag this dress at such a ...</td>\n",
              "      <td>5</td>\n",
              "      <td>1</td>\n",
              "      <td>0</td>\n",
              "      <td>General Petite</td>\n",
              "      <td>Dresses</td>\n",
              "      <td>Dresses</td>\n",
              "    </tr>\n",
              "    <tr>\n",
              "      <th>19658</th>\n",
              "      <td>862</td>\n",
              "      <td>48</td>\n",
              "      <td>Wish it was made of cotton</td>\n",
              "      <td>It reminds me of maternity clothes. soft, stre...</td>\n",
              "      <td>3</td>\n",
              "      <td>1</td>\n",
              "      <td>0</td>\n",
              "      <td>General Petite</td>\n",
              "      <td>Tops</td>\n",
              "      <td>Knits</td>\n",
              "    </tr>\n",
              "    <tr>\n",
              "      <th>19659</th>\n",
              "      <td>1104</td>\n",
              "      <td>31</td>\n",
              "      <td>Cute, but see through</td>\n",
              "      <td>This fit well, but the top was very see throug...</td>\n",
              "      <td>3</td>\n",
              "      <td>0</td>\n",
              "      <td>1</td>\n",
              "      <td>General Petite</td>\n",
              "      <td>Dresses</td>\n",
              "      <td>Dresses</td>\n",
              "    </tr>\n",
              "    <tr>\n",
              "      <th>19660</th>\n",
              "      <td>1084</td>\n",
              "      <td>28</td>\n",
              "      <td>Very cute dress, perfect for summer parties an...</td>\n",
              "      <td>I bought this dress for a wedding i have this ...</td>\n",
              "      <td>3</td>\n",
              "      <td>1</td>\n",
              "      <td>2</td>\n",
              "      <td>General</td>\n",
              "      <td>Dresses</td>\n",
              "      <td>Dresses</td>\n",
              "    </tr>\n",
              "    <tr>\n",
              "      <th>19661</th>\n",
              "      <td>1104</td>\n",
              "      <td>52</td>\n",
              "      <td>Please make more like this one!</td>\n",
              "      <td>This dress in a lovely platinum is feminine an...</td>\n",
              "      <td>5</td>\n",
              "      <td>1</td>\n",
              "      <td>22</td>\n",
              "      <td>General Petite</td>\n",
              "      <td>Dresses</td>\n",
              "      <td>Dresses</td>\n",
              "    </tr>\n",
              "  </tbody>\n",
              "</table>\n",
              "<p>19662 rows × 10 columns</p>\n",
              "</div>"
            ],
            "text/plain": [
              "       Clothing ID  Age                                              Title  \\\n",
              "0             1077   60                            Some major design flaws   \n",
              "1             1049   50                                   My favorite buy!   \n",
              "2              847   47                                   Flattering shirt   \n",
              "3             1080   49                            Not for the very petite   \n",
              "4              858   39                               Cagrcoal shimmer fun   \n",
              "...            ...  ...                                                ...   \n",
              "19657         1104   34                     Great dress for many occasions   \n",
              "19658          862   48                         Wish it was made of cotton   \n",
              "19659         1104   31                              Cute, but see through   \n",
              "19660         1084   28  Very cute dress, perfect for summer parties an...   \n",
              "19661         1104   52                    Please make more like this one!   \n",
              "\n",
              "                                             Review Text  Rating  \\\n",
              "0      I had such high hopes for this dress and reall...       3   \n",
              "1      I love, love, love this jumpsuit. it's fun, fl...       5   \n",
              "2      This shirt is very flattering to all due to th...       5   \n",
              "3      I love tracy reese dresses, but this one is no...       2   \n",
              "4      I aded this in my basket at hte last mintue to...       5   \n",
              "...                                                  ...     ...   \n",
              "19657  I was very happy to snag this dress at such a ...       5   \n",
              "19658  It reminds me of maternity clothes. soft, stre...       3   \n",
              "19659  This fit well, but the top was very see throug...       3   \n",
              "19660  I bought this dress for a wedding i have this ...       3   \n",
              "19661  This dress in a lovely platinum is feminine an...       5   \n",
              "\n",
              "       Recommended IND  Positive Feedback Count   Division Name  \\\n",
              "0                    0                        0         General   \n",
              "1                    1                        0  General Petite   \n",
              "2                    1                        6         General   \n",
              "3                    0                        4         General   \n",
              "4                    1                        1  General Petite   \n",
              "...                ...                      ...             ...   \n",
              "19657                1                        0  General Petite   \n",
              "19658                1                        0  General Petite   \n",
              "19659                0                        1  General Petite   \n",
              "19660                1                        2         General   \n",
              "19661                1                       22  General Petite   \n",
              "\n",
              "      Department Name Class Name  \n",
              "0             Dresses    Dresses  \n",
              "1             Bottoms      Pants  \n",
              "2                Tops    Blouses  \n",
              "3             Dresses    Dresses  \n",
              "4                Tops      Knits  \n",
              "...               ...        ...  \n",
              "19657         Dresses    Dresses  \n",
              "19658            Tops      Knits  \n",
              "19659         Dresses    Dresses  \n",
              "19660         Dresses    Dresses  \n",
              "19661         Dresses    Dresses  \n",
              "\n",
              "[19662 rows x 10 columns]"
            ]
          },
          "execution_count": 13,
          "metadata": {},
          "output_type": "execute_result"
        }
      ],
      "source": [
        "df = pd.read_csv('data/assignment3.csv')\n",
        "df"
      ]
    },
    {
      "cell_type": "code",
      "execution_count": 14,
      "metadata": {},
      "outputs": [
        {
          "name": "stdout",
          "output_type": "stream",
          "text": [
            "[['I', 'had', 'such', 'high', 'hopes', 'for', 'this', 'dress', 'and', 'really', 'wanted', 'it', 'to', 'work', 'for', 'me', 'i', 'initially', 'ordered', 'the', 'petite', 'small', 'my', 'usual', 'size', 'but', 'i', 'found', 'this', 'to', 'be', 'outrageously', 'small', 'so', 'small', 'in', 'fact', 'that', 'i', 'could', 'not', 'zip', 'it', 'up', 'i', 'reordered', 'it', 'in', 'petite', 'medium', 'which', 'was', 'just', 'ok', 'overall', 'the', 'top', 'half', 'was', 'comfortable', 'and', 'fit', 'nicely', 'but', 'the', 'bottom', 'half', 'had', 'a', 'very', 'tight', 'under', 'layer', 'and', 'several', 'somewhat', 'cheap', 'net', 'over', 'layers', 'imo', 'a', 'major', 'design', 'flaw', 'was', 'the', 'net', 'over', 'layer', 'sewn', 'directly', 'into', 'the', 'zipper', 'it', 'c'], ['I', 'love', 'love', 'love', 'this', 'jumpsuit', \"it's\", 'fun', 'flirty', 'and', 'fabulous', 'every', 'time', 'i', 'wear', 'it', 'i', 'get', 'nothing', 'but', 'great', 'compliments'], ['This', 'shirt', 'is', 'very', 'flattering', 'to', 'all', 'due', 'to', 'the', 'adjustable', 'front', 'tie', 'it', 'is', 'the', 'perfect', 'length', 'to', 'wear', 'with', 'leggings', 'and', 'it', 'is', 'sleeveless', 'so', 'it', 'pairs', 'well', 'with', 'any', 'cardigan', 'love', 'this', 'shirt']]\n"
          ]
        }
      ],
      "source": [
        "# 2. Tokenizing clothing review\n",
        "\n",
        "TOKEN_PATTERN = r\"[a-zA-Z]+(?:[-'][a-zA-Z]+)?\" # Token pattern for words\n",
        "token_re = re.compile(TOKEN_PATTERN)\n",
        "\n",
        "# Tokenize the review text\n",
        "df[\"tokens\"] = (\n",
        "    df[\"Review Text\"]\n",
        "      .fillna(\"\") # Replace NaN with empty string\n",
        "      .astype(str)\n",
        "      .apply(token_re.findall)\n",
        ")\n",
        "\n",
        "# quick spot-checks (delete when done)\n",
        "print(df[\"tokens\"].head(3).tolist())\n",
        "assert isinstance(df[\"tokens\"].iloc[0], list)"
      ]
    },
    {
      "cell_type": "code",
      "execution_count": null,
      "metadata": {},
      "outputs": [],
      "source": [
        "# 3. Lowercasing and removing words with length < 2\n",
        "df[\"tokens\"] = (\n",
        "    df[\"Review Text\"]\n",
        "      .fillna(\"\")  \n",
        "      .astype(str)\n",
        "      .apply(lambda text: [token.lower() for token in token_re.findall(text) if len(token) > 1])\n",
        ")\n",
        "\n",
        "# quick spot-checks \n",
        "print(df[\"tokens\"].head(3).tolist())\n",
        "assert isinstance(df[\"tokens\"].iloc[0], list)"
      ]
    },
    {
      "cell_type": "code",
      "execution_count": 9,
      "metadata": {},
      "outputs": [
        {
          "data": {
            "text/plain": [
              "the             67690\n",
              "i               45347\n",
              "and             43863\n",
              "a               38390\n",
              "it              38181\n",
              "                ...  \n",
              "storeroom           1\n",
              "creek               1\n",
              "walnut              1\n",
              "well-defined        1\n",
              "chu                 1\n",
              "Name: count, Length: 15402, dtype: int64"
            ]
          },
          "execution_count": 9,
          "metadata": {},
          "output_type": "execute_result"
        }
      ],
      "source": [
        "# 6. Remove the word that appears only once in the document collection, based on term frequency. \n",
        "term_freq = pd.Series(np.concatenate(df[\"tokens\"].values)).value_counts()\n",
        "term_freq"
      ]
    },
    {
      "cell_type": "code",
      "execution_count": 11,
      "metadata": {},
      "outputs": [
        {
          "data": {
            "text/plain": [
              "the         67690\n",
              "i           45347\n",
              "and         43863\n",
              "a           38390\n",
              "it          38181\n",
              "            ...  \n",
              "sounded         2\n",
              "oval            2\n",
              "smaill          2\n",
              "owls            2\n",
              "artist's        2\n",
              "Name: count, Length: 8348, dtype: int64"
            ]
          },
          "execution_count": 11,
          "metadata": {},
          "output_type": "execute_result"
        }
      ],
      "source": [
        "df[\"tokens\"] = df[\"tokens\"].apply(lambda tokens: [token for token in tokens if term_freq[token] > 1])\n",
        "term_freq = pd.Series(np.concatenate(df[\"tokens\"].values)).value_counts()\n",
        "term_freq"
      ]
    },
    {
      "cell_type": "code",
      "execution_count": 12,
      "metadata": {},
      "outputs": [
        {
          "data": {
            "text/plain": [
              "Index(['the', 'i', 'and', 'a', 'it', 'is', 'to', 'this', 'in', 'but', 'on',\n",
              "       'for', 'of', 'with', 'was', 'so', 'my', 'dress', 'not', 'that'],\n",
              "      dtype='object')"
            ]
          },
          "execution_count": 12,
          "metadata": {},
          "output_type": "execute_result"
        }
      ],
      "source": [
        "# 7. Remove the top 20 most frequent words based on document frequency. \n",
        "top_20_words = term_freq.nlargest(20).index\n",
        "top_20_words"
      ]
    },
    {
      "cell_type": "code",
      "execution_count": null,
      "metadata": {},
      "outputs": [],
      "source": [
        "df[\"tokens\"] = df[\"tokens\"].apply(lambda tokens: [token for token in tokens if token not in top_20_words])\n",
        "term_freq = pd.Series(np.concatenate(df[\"tokens\"].values)).value_counts()\n",
        "term_freq"
      ]
    }
  ],
  "metadata": {
    "colab": {
      "provenance": []
    },
    "kernelspec": {
      "display_name": "Python 3",
      "language": "python",
      "name": "python3"
    },
    "language_info": {
      "codemirror_mode": {
        "name": "ipython",
        "version": 3
      },
      "file_extension": ".py",
      "mimetype": "text/x-python",
      "name": "python",
      "nbconvert_exporter": "python",
      "pygments_lexer": "ipython3",
      "version": "3.13.5"
    }
  },
  "nbformat": 4,
  "nbformat_minor": 0
}
