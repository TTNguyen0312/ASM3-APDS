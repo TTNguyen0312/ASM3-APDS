{
 "cells": [
  {
   "cell_type": "code",
   "execution_count": 6,
   "id": "e6c4f0e8",
   "metadata": {},
   "outputs": [
    {
     "name": "stdout",
     "output_type": "stream",
     "text": [
      "[OK] processed.csv loaded. Rows: 19662\n",
      "Sample tokens: [['high', 'hopes', 'wanted', 'work', 'initially', 'petite', 'usual', 'found', 'outrageously', 'fact', 'zip', 'reordered', 'petite', 'medium', 'half', 'nicely', 'bottom', 'half', 'tight', 'layer', 'cheap', 'net', 'layers', 'imo', 'major', 'design', 'flaw', 'net', 'layer', 'sewn', 'directly', 'zipper']]\n"
     ]
    }
   ],
   "source": [
    "# === Task 2: Bag-of-Words (Cell 1/3) ===\n",
    "import pandas as pd, ast\n",
    "\n",
    "# Load processed.csv (must contain column 'tokens' from Task 1)\n",
    "df = pd.read_csv(\"processed.csv\")\n",
    "\n",
    "# Convert 'tokens' from string to list if needed\n",
    "df[\"tokens\"] = df[\"tokens\"].apply(lambda x: ast.literal_eval(x) if isinstance(x, str) else x)\n",
    "\n",
    "print(\"[OK] processed.csv loaded. Rows:\", len(df))\n",
    "print(\"Sample tokens:\", df[\"tokens\"].head(1).tolist())\n"
   ]
  },
  {
   "cell_type": "code",
   "execution_count": 10,
   "id": "e5853971",
   "metadata": {},
   "outputs": [
    {
     "name": "stdout",
     "output_type": "stream",
     "text": [
      "vocabulary.txt loaded. Size: 7529\n",
      "Sample entries: [('a-cup', 0), ('a-flutter', 1), ('a-frame', 2), ('a-kind', 3), ('a-line', 4)]\n"
     ]
    }
   ],
   "source": [
    "# === Task 2: Bag-of-Words ===\n",
    "word2idx = {}\n",
    "with open(\"vocabulary.txt\", \"r\", encoding=\"utf-8\") as f:\n",
    "    for line in f:\n",
    "        s = line.strip()\n",
    "        if not s:\n",
    "            continue\n",
    "        w, sidx = s.rsplit(\":\", 1)\n",
    "        word2idx[w] = int(sidx)\n",
    "\n",
    "print(\"vocabulary.txt loaded. Size:\", len(word2idx))\n",
    "print(\"Sample entries:\", list(word2idx.items())[:5])\n"
   ]
  },
  {
   "cell_type": "code",
   "execution_count": null,
   "id": "540dcf72",
   "metadata": {},
   "outputs": [
    {
     "name": "stdout",
     "output_type": "stream",
     "text": [
      "[OK] Wrote 19662 lines to count_vectors.txt\n",
      "#0,686:1,1027:1,1715:1,1791:1,2288:1,2481:1,2602:1,2892:2,3010:1,3087:1,3193:1,3258:1,3549:2,3552:1,3832:1,3934:1,4224:2,4234:1,4427:1,4639:2,5260:1,5668:1,6726:1,7092:1,7207:1,7406:1,7520:1,7522:1\n",
      "#1,1286:1,2283:1,2502:1,2667:1,3403:1,6739:1\n",
      "#2,86:1,924:1,1987:1,2646:1,3584:1,3595:1,4506:1,5736:2,5924:1,6716:1\n"
     ]
    }
   ],
   "source": [
    "# === Task 2: Bag-of-Words ===\n",
    "from collections import Counter\n",
    "\n",
    "out_path = \"count_vectors.txt\"\n",
    "\n",
    "with open(out_path, \"w\", encoding=\"utf-8\") as fout:\n",
    "    for review_index, tokens in enumerate(df[\"tokens\"].values):\n",
    "        ctr = Counter()\n",
    "        for t in tokens:\n",
    "            idx = word2idx.get(str(t).lower())\n",
    "            if idx is not None:\n",
    "                ctr[idx] += 1\n",
    "\n",
    "        # Format: \"#<review_index>,idx:count,idx:count,...\"\n",
    "        parts = [f\"{i}:{ctr[i]}\" for i in sorted(ctr)]\n",
    "        fout.write(f\"#{review_index},{','.join(parts)}\\n\")\n",
    "\n",
    "print(f\"[OK] Wrote {len(df)} lines to {out_path}\")\n",
    "with open(out_path, \"r\", encoding=\"utf-8\") as f:\n",
    "    for _ in range(3):\n",
    "        print(f.readline().rstrip())"
   ]
  }
 ],
 "metadata": {
  "kernelspec": {
   "display_name": "Python 3",
   "language": "python",
   "name": "python3"
  },
  "language_info": {
   "codemirror_mode": {
    "name": "ipython",
    "version": 3
   },
   "file_extension": ".py",
   "mimetype": "text/x-python",
   "name": "python",
   "nbconvert_exporter": "python",
   "pygments_lexer": "ipython3",
   "version": "3.11.9"
  }
 },
 "nbformat": 4,
 "nbformat_minor": 5
}
